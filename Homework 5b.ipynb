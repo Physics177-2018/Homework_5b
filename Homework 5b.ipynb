{
 "cells": [
  {
   "cell_type": "markdown",
   "metadata": {},
   "source": [
    "# Homework 5b: Oscillatory Systems\n",
    "Physics 177, Spring 2018  \n",
    "**Due:** Thursday, May 3\n",
    "\n",
    "*Enter your name here*"
   ]
  },
  {
   "cell_type": "markdown",
   "metadata": {},
   "source": [
    "## Discussion\n",
    "\n",
    "The equations of motion for the simple, non-linear pendulum are:  \n",
    "\n",
    "$\\displaystyle \\dot{\\theta} = +\\, \\omega$  \n",
    "$\\displaystyle \\dot{\\omega} = -\\frac{g}{\\ell}\\sin\\theta$  \n",
    "\n",
    "Write these as:  \n",
    "\n",
    "$\\displaystyle \\dot{\\theta} = f(\\theta,\\omega,t)$  \n",
    "$\\displaystyle \\dot{\\omega} = h(\\theta,\\omega,t)$  \n",
    "\n",
    "The pendulum has length $\\ell$, angle $\\theta$ with respect to the vertical, angular velocity $\\omega$, and gravitational acceleration at sea level is $g = 9.8$ m/s$^2$.\n",
    "\n",
    "**Reminder**: Recall that the Runge-Kutta algorithm for solving $\\dot x = f(x,t)$ is to loop the following sequence of steps:  \n",
    "`k1 = dt*f(x,t)`  \n",
    "`k2 = dt*f(x + 0.5*k1, t + 0.5*dt)`  \n",
    "`x += k2`"
   ]
  },
  {
   "cell_type": "markdown",
   "metadata": {},
   "source": [
    "## 1. Runge-Kutta for the simple pendulum\n",
    "\n",
    "Fill in the code below for a function `time_and_theta(ell, theta_0)` that outputs two Numpy arrays:  \n",
    "1. an array of time slices\n",
    "2. an array of associated $\\theta$ values\n",
    "\n",
    "In other words, the outputs of `time_and_theta(ell, theta_0)` are the required inputs for `matplotlib` to plot the trajectory. Use the Runge-Kutta algorithm to integrate the differential equations. Use MKS units, so that `g = 9.8`.\n",
    "\n",
    "You may want to refer back to [Lecture 7](https://github.com/Physics177-2018/Lecture_07) or see the relevant chapter in the textbook to review how we turned the *second order* simple pendulum into a *first order* system of two differential equations."
   ]
  },
  {
   "cell_type": "code",
   "execution_count": null,
   "metadata": {},
   "outputs": [],
   "source": [
    "import numpy as np\n",
    "import matplotlib.pyplot as plt\n",
    "from math import sin as sin\n",
    "\n",
    "# CONSTANTS\n",
    "g = # FILL THIS IN\n",
    "\n",
    "# PARAMETERS\n",
    "ell = 1.0      # length of pendulum arm\n",
    "theta_0 = 2.0  # initial displacement in radians\n",
    "               # Note: this is *not* a small angle\n",
    "omega_0 = 0.0  # initial angular velocity\n",
    "dt = 0.01      # time sampling spacing\n",
    "t_final = 10.0 # total number of seconds \n",
    "\n",
    "def f(theta, omega, t):\n",
    "    \"\"\"d(theta)/dt\"\"\"\n",
    "    return # FILL THIS IN\n",
    "    \n",
    "def h(theta, omega, t):\n",
    "    \"\"\"d(omega)/dt\"\"\"\n",
    "    return # FILL THIS IN\n",
    "\n",
    "# TIME SLICES (depends on dt and t_final)\n",
    "tpoints = # FILL THIS IN (e.g. use np.arange)\n",
    "\n",
    "def time_and_angles():\n",
    "    \"\"\"\n",
    "    Returns three Numpy arrays: \n",
    "    1. a list of time samples \n",
    "    2. a list of theta values\n",
    "    3. a list of omega values\n",
    "    No arguments (these are all assumed to be global variables)\n",
    "    \"\"\"\n",
    "    \n",
    "    theta_points = []\n",
    "    omega_points = []\n",
    "    \n",
    "    # Initialize theta, omega\n",
    "    theta = theta_0\n",
    "    omega = omega_0\n",
    "    \n",
    "    for t in tpoints:\n",
    "        \n",
    "        # Append theta, omega into theta_points and omega_points\n",
    "        # FILL THIS IN\n",
    "            \n",
    "        # Time step using Runge-Kutta\n",
    "        # FILL THIS IN, update theta using RK2\n",
    "        # FILL THIS IN, update omega using RK2\n",
    "    \n",
    "    return np.array(tpoints), np.array(theta_points), np.array(omega_points)"
   ]
  },
  {
   "cell_type": "code",
   "execution_count": null,
   "metadata": {},
   "outputs": [],
   "source": [
    "# Test the above code:\n",
    "times, thetas, omegas = time_and_angles()\n",
    "\n",
    "plt.plot(times, thetas, label='$\\Theta$ (rad)')\n",
    "plt.plot(times, omegas, label='$\\omega$ (rad/s)')\n",
    "plt.title(\"Simple Pendulum\")\n",
    "plt.xlabel('time')\n",
    "plt.ylabel('Measurements [mks]')\n",
    "plt.legend()\n",
    "plt.show()"
   ]
  },
  {
   "cell_type": "markdown",
   "metadata": {},
   "source": [
    "Your code above should produce:\n",
    "<img src=\"HW5_simple_pendulum.png\">"
   ]
  },
  {
   "cell_type": "markdown",
   "metadata": {},
   "source": [
    "## 2. Plotting Phase Space\n",
    "\n",
    "Using your code (or rewriting it if necessary) from Problem 1, plot the **phase space trajectory** of the simple pendulum over the range 0 to 10 seconds with the initial conditiosn above. A phase space diagram has $\\theta$ on the horizontal axis and momentum on the vertical axis. You may assume that the pendulum weight has unit mass. \n",
    "\n",
    "(In the units where `g=9.8`, what does \"unit mass\" mean?)\n",
    "\n",
    "**THink about what's going on.** The result may surprise you. But then you'll remember the discussion we had at the end of Lecture 7 about energy conservation and the propagation of errors."
   ]
  },
  {
   "cell_type": "code",
   "execution_count": null,
   "metadata": {},
   "outputs": [],
   "source": [
    "# Test the above code:\n",
    "plt.plot(\n",
    "    #FILL THIS IN\n",
    ")\n",
    "plt.title(\"Simple Pendulum: Phase Space\")\n",
    "plt.xlabel('Theta')\n",
    "plt.ylabel('Velocity')\n",
    "plt.show()"
   ]
  },
  {
   "cell_type": "markdown",
   "metadata": {},
   "source": [
    "## 3. Plot of Energy with Respect to Time\n",
    "\n",
    "The energy of the simple pendulum is  \n",
    "\n",
    "$\\displaystyle E = \\frac{1}{2} m \\ell^2 \\omega^2 + m g \\ell \\left(1-\\cos\\theta\\right)$\n",
    "\n",
    "**Hint:** Numpy arrays are \"built\" for being manipulated as mathematical objects. Thus it may be useful to observe the following operations:"
   ]
  },
  {
   "cell_type": "code",
   "execution_count": null,
   "metadata": {},
   "outputs": [],
   "source": [
    "test_numpy_array=np.array([3.14,1.55])\n",
    "\n",
    "print(np.cos(test_numpy_array))\n",
    "print(test_numpy_array**2)"
   ]
  },
  {
   "cell_type": "markdown",
   "metadata": {},
   "source": [
    "Using the outputs of your code from Problem 1, create a Numpy array of energy at each time step and plot energy as a function of time. \n",
    "\n",
    "Refer to your answer to Problem 2 and **explain what's going on**. From purely physical principles, what did you *expect* the plot in Problem 2 to look like (e.g. if you were taking measurements of an actual simple pendulum). How does the answer to this question explain what's *actually* happening in the plot in Problem 2?"
   ]
  },
  {
   "cell_type": "code",
   "execution_count": null,
   "metadata": {},
   "outputs": [],
   "source": [
    "m = 1.0\n",
    "\n",
    "energies = # FILL THIS IN using the omegas and thetas arrays\n",
    "\n",
    "plt.plot(times, energies)\n",
    "plt.title(\"Simple Pendulum: Energy\")\n",
    "plt.xlabel('Time')\n",
    "plt.ylabel('Energy')\n",
    "plt.show()"
   ]
  },
  {
   "cell_type": "markdown",
   "metadata": {},
   "source": [
    "## 4. Leap-Frog to the Rescue\n",
    "\n",
    "The leap-frog algorithm is as follows:\n",
    "\n",
    "$$\\displaystyle x(t+\\delta t) = x(t) + \\delta t\\; f\\left(x\\left(t+\\frac{\\delta t}{2}\\right), t + \\frac{\\delta t}{2} \\right)$$  \n",
    "\n",
    "Fill in the code below and reproduce the plots in Problems 1, 2, and 3 using the leap-frog algorithm to integrate the simple, non-linear pendulum ODE."
   ]
  },
  {
   "cell_type": "code",
   "execution_count": null,
   "metadata": {},
   "outputs": [],
   "source": [
    "def time_and_angles_leapfrog():\n",
    "    \"\"\"\n",
    "    Returns three Numpy arrays: \n",
    "    1. a list of time samples \n",
    "    2. a list of theta values\n",
    "    3. a list of omega values\n",
    "    No arguments (these are all assumed to be global variables)\n",
    "    Uses leap-frog algorithm\n",
    "    \"\"\"\n",
    "    \n",
    "    theta_points = []\n",
    "    omega_points = []\n",
    "    \n",
    "    # Initialize theta, omega\n",
    "    theta = theta_0\n",
    "    omega = omega_0\n",
    "    theta_half = theta + 0.5*dt*f(theta, omega, 0)\n",
    "    omega_half = omega + 0.5*dt*h(theta, omega, 0)\n",
    "    \n",
    "    \n",
    "    for t in tpoints:\n",
    "        # Append theta, omega to theta_points and omega_points\n",
    "        # FILL THIS IN\n",
    "            \n",
    "        # Time step using Leap-Frog \n",
    "        theta += # FILL THIS IN\n",
    "        omega += # FILL THIS IN\n",
    "        \n",
    "        theta_half += dt*f(theta, omega, t + dt)\n",
    "        omega_half += dt*h(theta, omega, t + dt)\n",
    "        # NOTE: these depend on theta[i+1] and omega[i+1]\n",
    "\n",
    "    return np.array(tpoints), np.array(theta_points), np.array(omega_points)"
   ]
  },
  {
   "cell_type": "code",
   "execution_count": null,
   "metadata": {},
   "outputs": [],
   "source": [
    "# Compare to the RK results: theta\n",
    "times, thetas_lf, omegas_lf = time_and_angles_leapfrog()\n",
    "\n",
    "plt.plot(times, thetas, label='RK')\n",
    "plt.plot(times, thetas_lf, label='LF')\n",
    "plt.title(\"Simple Pendulum: RK vs LF\")\n",
    "plt.xlabel('time')\n",
    "plt.ylabel('Measurements [mks]')\n",
    "plt.legend()\n",
    "plt.show()"
   ]
  },
  {
   "cell_type": "code",
   "execution_count": null,
   "metadata": {},
   "outputs": [],
   "source": [
    "# COMPARE to the RK phase space results\n",
    "\n",
    "plt.plot(thetas, omegas, label='RK')\n",
    "plt.plot(thetas_lf, omegas_lf, label='LF')\n",
    "plt.title(\"Simple Pendulum: Phase Space\")\n",
    "plt.xlabel('angle')\n",
    "plt.ylabel('momentum')\n",
    "plt.legend()\n",
    "plt.show()"
   ]
  },
  {
   "cell_type": "code",
   "execution_count": null,
   "metadata": {},
   "outputs": [],
   "source": [
    "m = 1.0\n",
    "\n",
    "energies_lf = # FILL THIS IN, leap frog energy array in time\n",
    "\n",
    "plt.plot(times, energies, label='RK')\n",
    "plt.plot(times, energies_lf, label='LF')\n",
    "plt.title(\"Simpleb Pendulum: Energy, RK vs LF\")\n",
    "plt.xlabel('Time')\n",
    "plt.ylabel('Energy')\n",
    "plt.show()"
   ]
  }
 ],
 "metadata": {
  "kernelspec": {
   "display_name": "Python 3",
   "language": "python",
   "name": "python3"
  },
  "language_info": {
   "codemirror_mode": {
    "name": "ipython",
    "version": 3
   },
   "file_extension": ".py",
   "mimetype": "text/x-python",
   "name": "python",
   "nbconvert_exporter": "python",
   "pygments_lexer": "ipython3",
   "version": "3.6.3"
  }
 },
 "nbformat": 4,
 "nbformat_minor": 2
}
